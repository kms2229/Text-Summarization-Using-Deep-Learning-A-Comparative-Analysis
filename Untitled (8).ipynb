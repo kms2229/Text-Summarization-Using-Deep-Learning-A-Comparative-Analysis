{
 "cells": [
  {
   "cell_type": "code",
   "execution_count": 1,
   "metadata": {},
   "outputs": [
    {
     "name": "stdout",
     "output_type": "stream",
     "text": [
      "Defaulting to user installation because normal site-packages is not writeable\n",
      "Requirement already satisfied: datasets in /usr4/cs505ws/kms22/.local/lib/python3.8/site-packages (2.15.0)\n",
      "Requirement already satisfied: tqdm>=4.62.1 in /usr4/cs505ws/kms22/.local/lib/python3.8/site-packages (from datasets) (4.66.1)\n",
      "Requirement already satisfied: requests>=2.19.0 in /share/pkg.7/tensorflow/2.3.1/install/lib/python3.8/site-packages (from datasets) (2.25.0)\n",
      "Requirement already satisfied: pandas in /share/pkg.7/python3/3.8.6/install/lib/python3.8/site-packages (from datasets) (1.1.4)\n",
      "Requirement already satisfied: huggingface-hub>=0.18.0 in /usr4/cs505ws/kms22/.local/lib/python3.8/site-packages (from datasets) (0.19.4)\n",
      "Requirement already satisfied: xxhash in /usr4/cs505ws/kms22/.local/lib/python3.8/site-packages (from datasets) (3.4.1)\n",
      "Requirement already satisfied: dill<0.3.8,>=0.3.0 in /share/pkg.7/python3/3.8.6/install/lib/python3.8/site-packages (from datasets) (0.3.3)\n",
      "Requirement already satisfied: pyyaml>=5.1 in /share/pkg.7/python3/3.8.6/install/lib/python3.8/site-packages (from datasets) (5.3.1)\n",
      "Requirement already satisfied: packaging in /share/pkg.7/python3/3.8.6/install/lib/python3.8/site-packages (from datasets) (20.4)\n",
      "Requirement already satisfied: numpy>=1.17 in /share/pkg.7/tensorflow/2.3.1/install/lib/python3.8/site-packages (from datasets) (1.18.5)\n",
      "Requirement already satisfied: pyarrow-hotfix in /usr4/cs505ws/kms22/.local/lib/python3.8/site-packages (from datasets) (0.6)\n",
      "Requirement already satisfied: aiohttp in /usr4/cs505ws/kms22/.local/lib/python3.8/site-packages (from datasets) (3.9.1)\n",
      "Requirement already satisfied: fsspec[http]<=2023.10.0,>=2023.1.0 in /usr4/cs505ws/kms22/.local/lib/python3.8/site-packages (from datasets) (2023.10.0)\n",
      "Requirement already satisfied: multiprocess in /share/pkg.7/python3/3.8.6/install/lib/python3.8/site-packages (from datasets) (0.70.11.1)\n",
      "Requirement already satisfied: pyarrow>=8.0.0 in /usr4/cs505ws/kms22/.local/lib/python3.8/site-packages (from datasets) (14.0.1)\n",
      "Requirement already satisfied: urllib3<1.27,>=1.21.1 in /share/pkg.7/python3/3.8.6/install/lib/python3.8/site-packages (from requests>=2.19.0->datasets) (1.25.11)\n",
      "Requirement already satisfied: certifi>=2017.4.17 in /share/pkg.7/tensorflow/2.3.1/install/lib/python3.8/site-packages (from requests>=2.19.0->datasets) (2020.11.8)\n",
      "Requirement already satisfied: idna<3,>=2.5 in /share/pkg.7/tensorflow/2.3.1/install/lib/python3.8/site-packages (from requests>=2.19.0->datasets) (2.10)\n",
      "Requirement already satisfied: chardet<4,>=3.0.2 in /share/pkg.7/tensorflow/2.3.1/install/lib/python3.8/site-packages (from requests>=2.19.0->datasets) (3.0.4)\n",
      "Requirement already satisfied: python-dateutil>=2.7.3 in /share/pkg.7/python3/3.8.6/install/lib/python3.8/site-packages (from pandas->datasets) (2.8.1)\n",
      "Requirement already satisfied: pytz>=2017.2 in /share/pkg.7/python3/3.8.6/install/lib/python3.8/site-packages (from pandas->datasets) (2020.4)\n",
      "Requirement already satisfied: filelock in /share/pkg.7/python3/3.8.6/install/lib/python3.8/site-packages (from huggingface-hub>=0.18.0->datasets) (3.0.12)\n",
      "Requirement already satisfied: typing-extensions>=3.7.4.3 in /share/pkg.7/python3/3.8.6/install/lib/python3.8/site-packages (from huggingface-hub>=0.18.0->datasets) (3.7.4.3)\n",
      "Requirement already satisfied: pyparsing>=2.0.2 in /share/pkg.7/python3/3.8.6/install/lib/python3.8/site-packages (from packaging->datasets) (2.4.7)\n",
      "Requirement already satisfied: six in /share/pkg.7/tensorflow/2.3.1/install/lib/python3.8/site-packages (from packaging->datasets) (1.15.0)\n",
      "Requirement already satisfied: yarl<2.0,>=1.0 in /usr4/cs505ws/kms22/.local/lib/python3.8/site-packages (from aiohttp->datasets) (1.9.4)\n",
      "Requirement already satisfied: multidict<7.0,>=4.5 in /usr4/cs505ws/kms22/.local/lib/python3.8/site-packages (from aiohttp->datasets) (6.0.4)\n",
      "Requirement already satisfied: attrs>=17.3.0 in /share/pkg.7/python3/3.8.6/install/lib/python3.8/site-packages (from aiohttp->datasets) (20.3.0)\n",
      "Requirement already satisfied: aiosignal>=1.1.2 in /usr4/cs505ws/kms22/.local/lib/python3.8/site-packages (from aiohttp->datasets) (1.3.1)\n",
      "Requirement already satisfied: frozenlist>=1.1.1 in /usr4/cs505ws/kms22/.local/lib/python3.8/site-packages (from aiohttp->datasets) (1.4.0)\n",
      "Requirement already satisfied: async-timeout<5.0,>=4.0; python_version < \"3.11\" in /usr4/cs505ws/kms22/.local/lib/python3.8/site-packages (from aiohttp->datasets) (4.0.3)\n",
      "\u001b[33mWARNING: You are using pip version 20.2.4; however, version 23.3.1 is available.\n",
      "You should consider upgrading via the '/share/pkg.7/python3/3.8.6/install/bin/python3.8 -m pip install --upgrade pip' command.\u001b[0m\n"
     ]
    }
   ],
   "source": [
    "!pip install datasets"
   ]
  },
  {
   "cell_type": "code",
   "execution_count": 2,
   "metadata": {},
   "outputs": [],
   "source": [
    "import torch\n",
    "import os\n",
    "import json\n",
    "from transformers import T5ForConditionalGeneration, T5Tokenizer, T5Config\n",
    "from datasets import load_dataset\n",
    "from transformers import TextDataset, DataCollatorForLanguageModeling\n",
    "from transformers import Trainer, TrainingArguments\n",
    "import nltk\n",
    "import matplotlib.pyplot as plt\n",
    "from torch.utils.tensorboard import SummaryWriter"
   ]
  },
  {
   "cell_type": "code",
   "execution_count": 3,
   "metadata": {},
   "outputs": [
    {
     "name": "stderr",
     "output_type": "stream",
     "text": [
      "[nltk_data] Downloading package stopwords to\n",
      "[nltk_data]     /usr4/cs505ws/kms22/nltk_data...\n",
      "[nltk_data]   Package stopwords is already up-to-date!\n",
      "[nltk_data] Downloading package punkt to\n",
      "[nltk_data]     /usr4/cs505ws/kms22/nltk_data...\n",
      "[nltk_data]   Package punkt is already up-to-date!\n",
      "[nltk_data] Downloading package wordnet to\n",
      "[nltk_data]     /usr4/cs505ws/kms22/nltk_data...\n",
      "[nltk_data]   Package wordnet is already up-to-date!\n",
      "[nltk_data] Downloading package averaged_perceptron_tagger to\n",
      "[nltk_data]     /usr4/cs505ws/kms22/nltk_data...\n",
      "[nltk_data]   Package averaged_perceptron_tagger is already up-to-\n",
      "[nltk_data]       date!\n"
     ]
    },
    {
     "data": {
      "text/plain": [
       "True"
      ]
     },
     "execution_count": 3,
     "metadata": {},
     "output_type": "execute_result"
    }
   ],
   "source": [
    "from nltk.corpus import stopwords\n",
    "from nltk import pos_tag\n",
    "from nltk.tokenize import word_tokenize\n",
    "from nltk.corpus import wordnet\n",
    "\n",
    "nltk.download(\"stopwords\")\n",
    "nltk.download(\"punkt\")\n",
    "nltk.download(\"wordnet\")\n",
    "nltk.download('averaged_perceptron_tagger')"
   ]
  },
  {
   "cell_type": "code",
   "execution_count": 4,
   "metadata": {},
   "outputs": [
    {
     "name": "stdout",
     "output_type": "stream",
     "text": [
      "Defaulting to user installation because normal site-packages is not writeable\n",
      "Requirement already satisfied: SentencePiece in /usr4/cs505ws/kms22/.local/lib/python3.8/site-packages (0.1.99)\n",
      "\u001b[33mWARNING: You are using pip version 20.2.4; however, version 23.3.1 is available.\n",
      "You should consider upgrading via the '/share/pkg.7/python3/3.8.6/install/bin/python3.8 -m pip install --upgrade pip' command.\u001b[0m\n"
     ]
    }
   ],
   "source": [
    "!pip install SentencePiece "
   ]
  },
  {
   "cell_type": "code",
   "execution_count": 5,
   "metadata": {},
   "outputs": [],
   "source": [
    "# Step 1: Load the CNN/Daily Mail dataset using load_dataset\n",
    "cnn_daily_mail = load_dataset(\"cnn_dailymail\",'3.0.0')\n",
    "\n",
    "# Access the training split\n",
    "train_dataset = cnn_daily_mail[\"train\"]\n",
    "\n",
    "# Access the validation split\n",
    "validation_dataset = cnn_daily_mail[\"validation\"]\n",
    "\n",
    "# Access the test split\n",
    "test_dataset = cnn_daily_mail[\"test\"]"
   ]
  },
  {
   "cell_type": "code",
   "execution_count": 6,
   "metadata": {},
   "outputs": [
    {
     "data": {
      "application/vnd.jupyter.widget-view+json": {
       "model_id": "c0647e78a331498a8568a70964734712",
       "version_major": 2,
       "version_minor": 0
      },
      "text/plain": [
       "Downloading:   0%|          | 0.00/792k [00:00<?, ?B/s]"
      ]
     },
     "metadata": {},
     "output_type": "display_data"
    },
    {
     "data": {
      "application/vnd.jupyter.widget-view+json": {
       "model_id": "01eb1f5943a04db6bbff4273fe4b5036",
       "version_major": 2,
       "version_minor": 0
      },
      "text/plain": [
       "Downloading:   0%|          | 0.00/2.32k [00:00<?, ?B/s]"
      ]
     },
     "metadata": {},
     "output_type": "display_data"
    },
    {
     "data": {
      "application/vnd.jupyter.widget-view+json": {
       "model_id": "0f1920f8e64d42b5be2818489c7b0007",
       "version_major": 2,
       "version_minor": 0
      },
      "text/plain": [
       "Downloading:   0%|          | 0.00/1.39M [00:00<?, ?B/s]"
      ]
     },
     "metadata": {},
     "output_type": "display_data"
    }
   ],
   "source": [
    "# Step 2: Preprocess the data according to t5 model for abstractive text summarization\n",
    "tokenizer = T5Tokenizer.from_pretrained(\"t5-small\")\n",
    "\n",
    "tokenizer.pad_token = tokenizer.eos_token"
   ]
  },
  {
   "cell_type": "code",
   "execution_count": 7,
   "metadata": {},
   "outputs": [],
   "source": [
    "def get_wordnet_pos(treebank_tag):\n",
    "    if treebank_tag.startswith('J'):\n",
    "        return wordnet.ADJ\n",
    "    elif treebank_tag.startswith('V'):\n",
    "        return wordnet.VERB\n",
    "    elif treebank_tag.startswith('N'):\n",
    "        return wordnet.NOUN\n",
    "    elif treebank_tag.startswith('R'):\n",
    "        return wordnet.ADV\n",
    "    else:\n",
    "        return wordnet.NOUN  # Default to noun if the POS tag is not found"
   ]
  },
  {
   "cell_type": "code",
   "execution_count": 8,
   "metadata": {},
   "outputs": [],
   "source": [
    "def preprocess_example(source_text, target_text, max_seq_length=512):\n",
    "\n",
    " # Tokenization\n",
    "    source_tokens = word_tokenize(source_text)\n",
    "    target_tokens = word_tokenize(target_text)\n",
    "\n",
    "    # Filter out stop words\n",
    "    source_tokens = [token for token in source_tokens if token.lower() not in stop_words]\n",
    "\n",
    "    # Part-of-speech tagging\n",
    "    source_pos_tags = pos_tag(source_tokens)\n",
    "    target_pos_tags = pos_tag(target_tokens)\n",
    "\n",
    "    # Lemmatization\n",
    "    lemmatizer = nltk.WordNetLemmatizer()\n",
    "    lemmatized_source_tokens = [lemmatizer.lemmatize(token, get_wordnet_pos(tag))\n",
    "                                 for token, tag in source_pos_tags]\n",
    "    lemmatized_target_tokens = [lemmatizer.lemmatize(token, get_wordnet_pos(tag))\n",
    "                                 for token, tag in target_pos_tags]\n",
    "\n",
    "    # Token IDs using tokenizer\n",
    "    input_ids = tokenizer.encode(lemmatized_source_tokens, truncation=True, max_length=max_seq_length)\n",
    "    label_ids = tokenizer.encode(lemmatized_target_tokens, truncation=True, max_length=max_seq_length)\n",
    "\n",
    "    # Ensure PyTorch tensors\n",
    "    input_ids = torch.tensor(input_ids)\n",
    "    attention_mask = (input_ids != tokenizer.pad_token_id).long()  # Convert to long type\n",
    "    label_ids = torch.tensor(label_ids)\n",
    "\n",
    "    return {\n",
    "        'input_ids': input_ids,\n",
    "        'attention_mask': attention_mask,\n",
    "        'labels': label_ids,\n",
    "    }\n",
    "\n",
    "# Define or import stop words\n",
    "stop_words = set(stopwords.words('english'))"
   ]
  },
  {
   "cell_type": "code",
   "execution_count": 9,
   "metadata": {},
   "outputs": [
    {
     "name": "stdout",
     "output_type": "stream",
     "text": [
      "Training dataset size: 5000\n",
      "Validation dataset size: 1000\n",
      "Test dataset size: 200\n",
      "\n",
      "Preprocessed\n",
      "Training dataset size: 5000\n",
      "Validation dataset size: 1000\n",
      "Test dataset size: 200\n"
     ]
    }
   ],
   "source": [
    "import random\n",
    "\n",
    "def randomly_select_examples(dataset, num_examples):\n",
    "  selected_examples = []\n",
    "  while len(selected_examples) < num_examples:\n",
    "    example = random.choice(dataset)\n",
    "    if example not in selected_examples:\n",
    "      selected_examples.append(example)\n",
    "\n",
    "  return selected_examples\n",
    "\n",
    "\n",
    "# Randomly select 1000 examples from the training dataset.\n",
    "selected_train_examples = randomly_select_examples(train_dataset, 5000)\n",
    "selected_valid_examples = randomly_select_examples(validation_dataset, 1000)\n",
    "selected_test_examples = randomly_select_examples(test_dataset, 200)\n",
    "\n",
    "print(f\"Training dataset size: {len(selected_train_examples)}\")\n",
    "print(f\"Validation dataset size: {len(selected_valid_examples)}\")\n",
    "print(f\"Test dataset size: {len(selected_test_examples)}\")\n",
    "\n",
    "preprocessed_train_data = [preprocess_example(example[\"article\"], example[\"highlights\"]) for example in selected_train_examples]\n",
    "preprocessed_validation_data = [preprocess_example(example[\"article\"], example[\"highlights\"]) for example in selected_valid_examples]\n",
    "preprocessed_test_data = [preprocess_example(example[\"article\"], example[\"highlights\"]) for example in selected_test_examples]\n",
    "\n",
    "print(f\"\\nPreprocessed\")\n",
    "print(f\"Training dataset size: {len(preprocessed_train_data)}\")\n",
    "print(f\"Validation dataset size: {len(preprocessed_validation_data)}\")\n",
    "print(f\"Test dataset size: {len(preprocessed_test_data)}\")"
   ]
  },
  {
   "cell_type": "code",
   "execution_count": 10,
   "metadata": {},
   "outputs": [],
   "source": [
    "def save_preprocessed_data_to_txt(data, filename):\n",
    "  with open(filename, \"w\") as f:\n",
    "    for example in data:\n",
    "      example_string = str(example)\n",
    "      f.write(example_string + \"\\n\")\n",
    "\n",
    "# Save the preprocessed training data.\n",
    "save_preprocessed_data_to_txt(preprocessed_train_data, \"preprocessed_train_data.json\")\n",
    "\n",
    "# Save the preprocessed validation data.\n",
    "save_preprocessed_data_to_txt(preprocessed_validation_data, \"preprocessed_validation_data.json\")\n",
    "\n",
    "# Save the preprocessed validation data.\n",
    "save_preprocessed_data_to_txt(preprocessed_test_data, \"preprocessed_test_data.json\")"
   ]
  },
  {
   "cell_type": "code",
   "execution_count": 11,
   "metadata": {},
   "outputs": [],
   "source": [
    "def plot_training_graph(train_losses, val_losses):\n",
    "    plt.plot(train_losses, label='Training Loss')\n",
    "    plt.plot(val_losses, label='Validation Loss')\n",
    "    plt.xlabel('Step')\n",
    "    plt.ylabel('Loss')\n",
    "    plt.legend()\n",
    "    plt.show()"
   ]
  },
  {
   "cell_type": "code",
   "execution_count": 12,
   "metadata": {},
   "outputs": [],
   "source": [
    "def fine_tune_gpt2(model_name, train_file, validation_file, test_file, output_dir):\n",
    "# Load GPT-2 model and tokenizer\n",
    "    model = T5ForConditionalGeneration.from_pretrained(model_name)\n",
    "    tokenizer = T5Tokenizer.from_pretrained(model_name)\n",
    "\n",
    "# Load training dataset\n",
    "    train_dataset = TextDataset(\n",
    "        tokenizer=tokenizer,\n",
    "        file_path=train_file,\n",
    "        block_size = 128)\n",
    "    validation_dataset = TextDataset(\n",
    "        tokenizer=tokenizer,\n",
    "        file_path=validation_file,\n",
    "        block_size=128)\n",
    "# Load test dataset\n",
    "    test_dataset = TextDataset(\n",
    "        tokenizer=tokenizer,\n",
    "        file_path=test_file,\n",
    "        block_size=128)\n",
    "\n",
    "    print(f\"Training dataset size: {len(train_dataset)}\")\n",
    "    print(f\"Validation dataset size: {len(validation_dataset)}\")\n",
    "    print(f\"Test dataset size: {len(test_dataset)}\")\n",
    "\n",
    "    # Create data collator for language modeling\n",
    "    data_collator = DataCollatorForLanguageModeling(\n",
    "        tokenizer=tokenizer, mlm=False)\n",
    "\n",
    "    training_args = TrainingArguments(\n",
    "      output_dir=output_dir,\n",
    "      num_train_epochs=30,\n",
    "      per_device_train_batch_size=32,\n",
    "      per_device_eval_batch_size=16,\n",
    "      warmup_steps=500,\n",
    "      weight_decay=0.01,\n",
    "      save_steps=10000,\n",
    "      evaluation_strategy=\"epoch\",\n",
    "      logging_strategy=\"epoch\",\n",
    "      logging_dir=\"./logs\",\n",
    "      logging_steps=1000,  # Set a specific value for how often to log\n",
    "      report_to=\"tensorboard\",  # Set the reporting backend to TensorBoard\n",
    "    )\n",
    "    # Train the model\n",
    "    trainer = Trainer(\n",
    "        model=model,\n",
    "        tokenizer = tokenizer,\n",
    "        args=training_args,\n",
    "        data_collator=data_collator,\n",
    "        train_dataset=train_dataset,\n",
    "        eval_dataset=validation_dataset\n",
    "    )\n",
    "\n",
    "\n",
    "    # Fine-tune the model and save training and validation losses\n",
    "    training_losses = trainer.train()\n",
    "    validation_losses = trainer.evaluate()\n",
    "\n",
    "    # Save the losses to files\n",
    "    torch.save(training_losses, \"training_loss.pt\")\n",
    "    torch.save(validation_losses, \"validation_loss.pt\")\n",
    "\n",
    "    # # Plot Training and Validation Graph\n",
    "    # plot_training_graph(training_losses, validation_losses)\n",
    "\n",
    "\n",
    "    # Print information about the test file\n",
    "    print(f\"Test file: {test_dataset}\")\n",
    "\n",
    "    # Print the current working directory\n",
    "    print(f\"Current working directory: {os.getcwd()}\")\n",
    "\n",
    "    # Save the fine-tuned model\n",
    "    trainer.save_model()\n",
    "    tokenizer.save_pretrained(output_dir)"
   ]
  },
  {
   "cell_type": "code",
   "execution_count": 13,
   "metadata": {},
   "outputs": [
    {
     "data": {
      "application/vnd.jupyter.widget-view+json": {
       "model_id": "f7f9939f0bcc48e58f332ff674b8d6eb",
       "version_major": 2,
       "version_minor": 0
      },
      "text/plain": [
       "Downloading:   0%|          | 0.00/1.21k [00:00<?, ?B/s]"
      ]
     },
     "metadata": {},
     "output_type": "display_data"
    },
    {
     "data": {
      "application/vnd.jupyter.widget-view+json": {
       "model_id": "e2e3e48ccb014a3c984d70e1129954c8",
       "version_major": 2,
       "version_minor": 0
      },
      "text/plain": [
       "Downloading:   0%|          | 0.00/242M [00:00<?, ?B/s]"
      ]
     },
     "metadata": {},
     "output_type": "display_data"
    },
    {
     "name": "stderr",
     "output_type": "stream",
     "text": [
      "/share/pkg.7/transformers/4.5.0/install/lib/python3.8/site-packages/transformers/data/datasets/language_modeling.py:54: FutureWarning: This dataset will be removed from the library soon, preprocessing should be handled with the 🤗 Datasets library. You can have a look at this example script for pointers: https://github.com/huggingface/transformers/blob/master/examples/language-modeling/run_mlm.py\n",
      "  warnings.warn(\n"
     ]
    },
    {
     "name": "stdout",
     "output_type": "stream",
     "text": [
      "Training dataset size: 64569\n",
      "Validation dataset size: 10066\n",
      "Test dataset size: 1951\n"
     ]
    },
    {
     "data": {
      "text/html": [
       "\n",
       "    <div>\n",
       "        <style>\n",
       "            /* Turns off some styling */\n",
       "            progress {\n",
       "                /* gets rid of default border in Firefox and Opera. */\n",
       "                border: none;\n",
       "                /* Needs to be in here for Safari polyfill so background images work as expected. */\n",
       "                background-size: auto;\n",
       "            }\n",
       "        </style>\n",
       "      \n",
       "      <progress value='60540' max='60540' style='width:300px; height:20px; vertical-align: middle;'></progress>\n",
       "      [60540/60540 3:39:38, Epoch 30/30]\n",
       "    </div>\n",
       "    <table border=\"1\" class=\"dataframe\">\n",
       "  <thead>\n",
       "    <tr style=\"text-align: left;\">\n",
       "      <th>Epoch</th>\n",
       "      <th>Training Loss</th>\n",
       "      <th>Validation Loss</th>\n",
       "      <th>Runtime</th>\n",
       "      <th>Samples Per Second</th>\n",
       "    </tr>\n",
       "  </thead>\n",
       "  <tbody>\n",
       "    <tr>\n",
       "      <td>1</td>\n",
       "      <td>0.142000</td>\n",
       "      <td>0.008039</td>\n",
       "      <td>20.540100</td>\n",
       "      <td>490.066000</td>\n",
       "    </tr>\n",
       "    <tr>\n",
       "      <td>2</td>\n",
       "      <td>0.012400</td>\n",
       "      <td>0.009043</td>\n",
       "      <td>20.521800</td>\n",
       "      <td>490.504000</td>\n",
       "    </tr>\n",
       "    <tr>\n",
       "      <td>3</td>\n",
       "      <td>0.007500</td>\n",
       "      <td>0.005919</td>\n",
       "      <td>20.550600</td>\n",
       "      <td>489.816000</td>\n",
       "    </tr>\n",
       "    <tr>\n",
       "      <td>4</td>\n",
       "      <td>0.005500</td>\n",
       "      <td>0.007127</td>\n",
       "      <td>20.540200</td>\n",
       "      <td>490.064000</td>\n",
       "    </tr>\n",
       "    <tr>\n",
       "      <td>5</td>\n",
       "      <td>0.004300</td>\n",
       "      <td>0.002944</td>\n",
       "      <td>20.538200</td>\n",
       "      <td>490.111000</td>\n",
       "    </tr>\n",
       "    <tr>\n",
       "      <td>6</td>\n",
       "      <td>0.003600</td>\n",
       "      <td>0.005275</td>\n",
       "      <td>20.527900</td>\n",
       "      <td>490.357000</td>\n",
       "    </tr>\n",
       "    <tr>\n",
       "      <td>7</td>\n",
       "      <td>0.003000</td>\n",
       "      <td>0.004118</td>\n",
       "      <td>20.483300</td>\n",
       "      <td>491.424000</td>\n",
       "    </tr>\n",
       "    <tr>\n",
       "      <td>8</td>\n",
       "      <td>0.002600</td>\n",
       "      <td>0.006654</td>\n",
       "      <td>20.524200</td>\n",
       "      <td>490.445000</td>\n",
       "    </tr>\n",
       "    <tr>\n",
       "      <td>9</td>\n",
       "      <td>0.002300</td>\n",
       "      <td>0.003186</td>\n",
       "      <td>20.493400</td>\n",
       "      <td>491.181000</td>\n",
       "    </tr>\n",
       "    <tr>\n",
       "      <td>10</td>\n",
       "      <td>0.002200</td>\n",
       "      <td>0.002651</td>\n",
       "      <td>20.519900</td>\n",
       "      <td>490.548000</td>\n",
       "    </tr>\n",
       "    <tr>\n",
       "      <td>11</td>\n",
       "      <td>0.002000</td>\n",
       "      <td>0.002845</td>\n",
       "      <td>20.509700</td>\n",
       "      <td>490.792000</td>\n",
       "    </tr>\n",
       "    <tr>\n",
       "      <td>12</td>\n",
       "      <td>0.001800</td>\n",
       "      <td>0.002768</td>\n",
       "      <td>20.502400</td>\n",
       "      <td>490.967000</td>\n",
       "    </tr>\n",
       "    <tr>\n",
       "      <td>13</td>\n",
       "      <td>0.001700</td>\n",
       "      <td>0.002217</td>\n",
       "      <td>20.536900</td>\n",
       "      <td>490.143000</td>\n",
       "    </tr>\n",
       "    <tr>\n",
       "      <td>14</td>\n",
       "      <td>0.001500</td>\n",
       "      <td>0.001983</td>\n",
       "      <td>20.539300</td>\n",
       "      <td>490.086000</td>\n",
       "    </tr>\n",
       "    <tr>\n",
       "      <td>15</td>\n",
       "      <td>0.001500</td>\n",
       "      <td>0.001989</td>\n",
       "      <td>20.540700</td>\n",
       "      <td>490.052000</td>\n",
       "    </tr>\n",
       "    <tr>\n",
       "      <td>16</td>\n",
       "      <td>0.001400</td>\n",
       "      <td>0.001870</td>\n",
       "      <td>20.509100</td>\n",
       "      <td>490.807000</td>\n",
       "    </tr>\n",
       "    <tr>\n",
       "      <td>17</td>\n",
       "      <td>0.001300</td>\n",
       "      <td>0.002028</td>\n",
       "      <td>20.496200</td>\n",
       "      <td>491.116000</td>\n",
       "    </tr>\n",
       "    <tr>\n",
       "      <td>18</td>\n",
       "      <td>0.001200</td>\n",
       "      <td>0.002609</td>\n",
       "      <td>20.528700</td>\n",
       "      <td>490.337000</td>\n",
       "    </tr>\n",
       "    <tr>\n",
       "      <td>19</td>\n",
       "      <td>0.001200</td>\n",
       "      <td>0.001353</td>\n",
       "      <td>20.518000</td>\n",
       "      <td>490.592000</td>\n",
       "    </tr>\n",
       "    <tr>\n",
       "      <td>20</td>\n",
       "      <td>0.001100</td>\n",
       "      <td>0.001339</td>\n",
       "      <td>20.510000</td>\n",
       "      <td>490.785000</td>\n",
       "    </tr>\n",
       "    <tr>\n",
       "      <td>21</td>\n",
       "      <td>0.001100</td>\n",
       "      <td>0.002487</td>\n",
       "      <td>20.529300</td>\n",
       "      <td>490.323000</td>\n",
       "    </tr>\n",
       "    <tr>\n",
       "      <td>22</td>\n",
       "      <td>0.001000</td>\n",
       "      <td>0.002006</td>\n",
       "      <td>20.553900</td>\n",
       "      <td>489.737000</td>\n",
       "    </tr>\n",
       "    <tr>\n",
       "      <td>23</td>\n",
       "      <td>0.001000</td>\n",
       "      <td>0.001170</td>\n",
       "      <td>20.528100</td>\n",
       "      <td>490.353000</td>\n",
       "    </tr>\n",
       "    <tr>\n",
       "      <td>24</td>\n",
       "      <td>0.000900</td>\n",
       "      <td>0.001536</td>\n",
       "      <td>20.566300</td>\n",
       "      <td>489.441000</td>\n",
       "    </tr>\n",
       "    <tr>\n",
       "      <td>25</td>\n",
       "      <td>0.000900</td>\n",
       "      <td>0.002028</td>\n",
       "      <td>20.493800</td>\n",
       "      <td>491.172000</td>\n",
       "    </tr>\n",
       "    <tr>\n",
       "      <td>26</td>\n",
       "      <td>0.000900</td>\n",
       "      <td>0.001839</td>\n",
       "      <td>20.519600</td>\n",
       "      <td>490.555000</td>\n",
       "    </tr>\n",
       "    <tr>\n",
       "      <td>27</td>\n",
       "      <td>0.000800</td>\n",
       "      <td>0.001387</td>\n",
       "      <td>20.540000</td>\n",
       "      <td>490.067000</td>\n",
       "    </tr>\n",
       "    <tr>\n",
       "      <td>28</td>\n",
       "      <td>0.000800</td>\n",
       "      <td>0.001240</td>\n",
       "      <td>20.519900</td>\n",
       "      <td>490.548000</td>\n",
       "    </tr>\n",
       "    <tr>\n",
       "      <td>29</td>\n",
       "      <td>0.000800</td>\n",
       "      <td>0.001971</td>\n",
       "      <td>20.538600</td>\n",
       "      <td>490.102000</td>\n",
       "    </tr>\n",
       "    <tr>\n",
       "      <td>30</td>\n",
       "      <td>0.000700</td>\n",
       "      <td>0.001570</td>\n",
       "      <td>20.610600</td>\n",
       "      <td>488.390000</td>\n",
       "    </tr>\n",
       "  </tbody>\n",
       "</table><p>"
      ],
      "text/plain": [
       "<IPython.core.display.HTML object>"
      ]
     },
     "metadata": {},
     "output_type": "display_data"
    },
    {
     "data": {
      "text/html": [
       "\n",
       "    <div>\n",
       "        <style>\n",
       "            /* Turns off some styling */\n",
       "            progress {\n",
       "                /* gets rid of default border in Firefox and Opera. */\n",
       "                border: none;\n",
       "                /* Needs to be in here for Safari polyfill so background images work as expected. */\n",
       "                background-size: auto;\n",
       "            }\n",
       "        </style>\n",
       "      \n",
       "      <progress value='630' max='630' style='width:300px; height:20px; vertical-align: middle;'></progress>\n",
       "      [630/630 00:20]\n",
       "    </div>\n",
       "    "
      ],
      "text/plain": [
       "<IPython.core.display.HTML object>"
      ]
     },
     "metadata": {},
     "output_type": "display_data"
    },
    {
     "name": "stdout",
     "output_type": "stream",
     "text": [
      "Test file: <transformers.data.datasets.language_modeling.TextDataset object at 0x14b89ce12c40>\n",
      "Current working directory: /usr4/cs505ws/kms22/Advance_ml\n"
     ]
    }
   ],
   "source": [
    "# Fine-tune the mode\n",
    "fine_tune_gpt2(\"t5-small\", \"preprocessed_train_data.json\",\"preprocessed_validation_data.json\",\"preprocessed_test_data.json\", \"our_Model_modify\")"
   ]
  },
  {
   "cell_type": "code",
   "execution_count": null,
   "metadata": {},
   "outputs": [],
   "source": []
  },
  {
   "cell_type": "code",
   "execution_count": 34,
   "metadata": {},
   "outputs": [],
   "source": [
    "#/content/drive/MyDrive/nlp/clean_data.csv\n",
    "\n",
    "import pandas as pd\n",
    "\n",
    "file_path = 'clean_data.csv'\n",
    "df = pd.read_csv(file_path)\n",
    "df = df.dropna()\n"
   ]
  },
  {
   "cell_type": "code",
   "execution_count": 35,
   "metadata": {},
   "outputs": [],
   "source": [
    "random_sample = df.sample(n=500, random_state=30)"
   ]
  },
  {
   "cell_type": "code",
   "execution_count": 36,
   "metadata": {},
   "outputs": [],
   "source": [
    "df = random_sample"
   ]
  },
  {
   "cell_type": "code",
   "execution_count": 37,
   "metadata": {},
   "outputs": [],
   "source": [
    "import pandas as pd\n",
    "\n",
    "# Assuming your dataframe is named df\n",
    "df['Text'] = df['Text'].str.replace(r\"[\\\"']\", \"\")\n",
    "df['Summary'] = df['Summary'].str.replace(r\"[\\\"']\", \"\")\n"
   ]
  },
  {
   "cell_type": "code",
   "execution_count": 38,
   "metadata": {},
   "outputs": [
    {
     "data": {
      "text/html": [
       "<div>\n",
       "<style scoped>\n",
       "    .dataframe tbody tr th:only-of-type {\n",
       "        vertical-align: middle;\n",
       "    }\n",
       "\n",
       "    .dataframe tbody tr th {\n",
       "        vertical-align: top;\n",
       "    }\n",
       "\n",
       "    .dataframe thead th {\n",
       "        text-align: right;\n",
       "    }\n",
       "</style>\n",
       "<table border=\"1\" class=\"dataframe\">\n",
       "  <thead>\n",
       "    <tr style=\"text-align: right;\">\n",
       "      <th></th>\n",
       "      <th>Unnamed: 0</th>\n",
       "      <th>Text</th>\n",
       "      <th>Summary</th>\n",
       "    </tr>\n",
       "  </thead>\n",
       "  <tbody>\n",
       "    <tr>\n",
       "      <th>58637</th>\n",
       "      <td>58637</td>\n",
       "      <td>the us state of new jersey on monday passed a ...</td>\n",
       "      <td>flying a drone while drunk made illegal in us ...</td>\n",
       "    </tr>\n",
       "    <tr>\n",
       "      <th>25892</th>\n",
       "      <td>25892</td>\n",
       "      <td>the eight-year-old daughter of an auto driver ...</td>\n",
       "      <td>eight-year-old girl crushed under school gate ...</td>\n",
       "    </tr>\n",
       "    <tr>\n",
       "      <th>60009</th>\n",
       "      <td>60009</td>\n",
       "      <td>the secretary of iran  supreme national securi...</td>\n",
       "      <td>iran calls for muslim unity to counter us divi...</td>\n",
       "    </tr>\n",
       "    <tr>\n",
       "      <th>9384</th>\n",
       "      <td>9384</td>\n",
       "      <td>iran would not comply with the fully illegal u...</td>\n",
       "      <td>iran says it will not comply with illegal us s...</td>\n",
       "    </tr>\n",
       "    <tr>\n",
       "      <th>30610</th>\n",
       "      <td>30610</td>\n",
       "      <td>photographs of a police officer, pravin singh,...</td>\n",
       "      <td>police officer kneels down before cm yogi, pho...</td>\n",
       "    </tr>\n",
       "    <tr>\n",
       "      <th>...</th>\n",
       "      <td>...</td>\n",
       "      <td>...</td>\n",
       "      <td>...</td>\n",
       "    </tr>\n",
       "    <tr>\n",
       "      <th>13513</th>\n",
       "      <td>13513</td>\n",
       "      <td>while addressing an event on monday, congress ...</td>\n",
       "      <td>all institutions including media under attack:...</td>\n",
       "    </tr>\n",
       "    <tr>\n",
       "      <th>91134</th>\n",
       "      <td>91134</td>\n",
       "      <td>a belgian court has ruled that advertising cla...</td>\n",
       "      <td>nutella maker wins case against rival  false h...</td>\n",
       "    </tr>\n",
       "    <tr>\n",
       "      <th>66549</th>\n",
       "      <td>66549</td>\n",
       "      <td>the relationship between the us and turkey are...</td>\n",
       "      <td>us likens its relationship with turkey to marr...</td>\n",
       "    </tr>\n",
       "    <tr>\n",
       "      <th>28520</th>\n",
       "      <td>28520</td>\n",
       "      <td>the amarnath yatra from jammu has been suspend...</td>\n",
       "      <td>amarnath yatra from jammu suspended ahead of i...</td>\n",
       "    </tr>\n",
       "    <tr>\n",
       "      <th>4014</th>\n",
       "      <td>4014</td>\n",
       "      <td>according to a mind-blowing revelation by the ...</td>\n",
       "      <td>names of bollywood celebrities, including alia...</td>\n",
       "    </tr>\n",
       "  </tbody>\n",
       "</table>\n",
       "<p>500 rows × 3 columns</p>\n",
       "</div>"
      ],
      "text/plain": [
       "       Unnamed: 0                                               Text  \\\n",
       "58637       58637  the us state of new jersey on monday passed a ...   \n",
       "25892       25892  the eight-year-old daughter of an auto driver ...   \n",
       "60009       60009  the secretary of iran  supreme national securi...   \n",
       "9384         9384  iran would not comply with the fully illegal u...   \n",
       "30610       30610  photographs of a police officer, pravin singh,...   \n",
       "...           ...                                                ...   \n",
       "13513       13513  while addressing an event on monday, congress ...   \n",
       "91134       91134  a belgian court has ruled that advertising cla...   \n",
       "66549       66549  the relationship between the us and turkey are...   \n",
       "28520       28520  the amarnath yatra from jammu has been suspend...   \n",
       "4014         4014  according to a mind-blowing revelation by the ...   \n",
       "\n",
       "                                                 Summary  \n",
       "58637  flying a drone while drunk made illegal in us ...  \n",
       "25892  eight-year-old girl crushed under school gate ...  \n",
       "60009  iran calls for muslim unity to counter us divi...  \n",
       "9384   iran says it will not comply with illegal us s...  \n",
       "30610  police officer kneels down before cm yogi, pho...  \n",
       "...                                                  ...  \n",
       "13513  all institutions including media under attack:...  \n",
       "91134  nutella maker wins case against rival  false h...  \n",
       "66549  us likens its relationship with turkey to marr...  \n",
       "28520  amarnath yatra from jammu suspended ahead of i...  \n",
       "4014   names of bollywood celebrities, including alia...  \n",
       "\n",
       "[500 rows x 3 columns]"
      ]
     },
     "execution_count": 38,
     "metadata": {},
     "output_type": "execute_result"
    }
   ],
   "source": [
    "df"
   ]
  },
  {
   "cell_type": "code",
   "execution_count": 39,
   "metadata": {},
   "outputs": [
    {
     "name": "stderr",
     "output_type": "stream",
     "text": [
      "500it [28:18,  3.40s/it]\n"
     ]
    }
   ],
   "source": [
    "from tqdm import tqdm\n",
    "from transformers import T5ForConditionalGeneration, T5Tokenizer\n",
    "\n",
    "model = T5ForConditionalGeneration.from_pretrained(\"our_Model_modify\")\n",
    "tokenizer = T5Tokenizer.from_pretrained(\"our_Model_modify\")\n",
    "\n",
    "summarys = []\n",
    "\n",
    "for index, row in tqdm(df.iterrows()):\n",
    "    text_data = row['Text']\n",
    "    input_text = text_data\n",
    "    input_ids = tokenizer.encode(input_text, return_tensors=\"pt\", max_length=512, truncation=True)\n",
    "    summary_ids = model.generate(input_ids, max_length=150, length_penalty=2.0, num_beams=4, early_stopping=True)\n",
    "    summary = tokenizer.decode(summary_ids[0], skip_special_tokens=True)\n",
    "    summarys.append(summary)\n",
    "\n"
   ]
  },
  {
   "cell_type": "code",
   "execution_count": 40,
   "metadata": {},
   "outputs": [
    {
     "name": "stdout",
     "output_type": "stream",
     "text": [
      "Defaulting to user installation because normal site-packages is not writeable\n",
      "Requirement already satisfied: rouge_score in /usr4/cs505ws/kms22/.local/lib/python3.8/site-packages (0.1.2)\n",
      "Requirement already satisfied: absl-py in /share/pkg.7/tensorflow/2.3.1/install/lib/python3.8/site-packages (from rouge_score) (0.11.0)\n",
      "Requirement already satisfied: six>=1.14.0 in /share/pkg.7/tensorflow/2.3.1/install/lib/python3.8/site-packages (from rouge_score) (1.15.0)\n",
      "Requirement already satisfied: numpy in /share/pkg.7/tensorflow/2.3.1/install/lib/python3.8/site-packages (from rouge_score) (1.18.5)\n",
      "Requirement already satisfied: nltk in /share/pkg.7/python3/3.8.6/install/lib/python3.8/site-packages (from rouge_score) (3.5)\n",
      "Requirement already satisfied: tqdm in /usr4/cs505ws/kms22/.local/lib/python3.8/site-packages (from nltk->rouge_score) (4.66.1)\n",
      "Requirement already satisfied: regex in /share/pkg.7/python3/3.8.6/install/lib/python3.8/site-packages (from nltk->rouge_score) (2020.10.28)\n",
      "Requirement already satisfied: click in /share/pkg.7/python3/3.8.6/install/lib/python3.8/site-packages (from nltk->rouge_score) (7.1.2)\n",
      "Requirement already satisfied: joblib in /share/pkg.7/python3/3.8.6/install/lib/python3.8/site-packages (from nltk->rouge_score) (0.17.0)\n",
      "\u001b[33mWARNING: You are using pip version 20.2.4; however, version 23.3.1 is available.\n",
      "You should consider upgrading via the '/share/pkg.7/python3/3.8.6/install/bin/python3.8 -m pip install --upgrade pip' command.\u001b[0m\n"
     ]
    }
   ],
   "source": [
    "!pip install rouge_score"
   ]
  },
  {
   "cell_type": "code",
   "execution_count": 41,
   "metadata": {},
   "outputs": [
    {
     "name": "stderr",
     "output_type": "stream",
     "text": [
      "INFO:absl:Using default tokenizer.\n",
      "500it [00:00, 3684.24it/s]\n"
     ]
    }
   ],
   "source": [
    "i = 0\n",
    "\n",
    "precision_rouge1 =[]\n",
    "#precision_rouge2 =[]\n",
    "recal_rouge1 =[]\n",
    "recal_rouge2 =[]\n",
    "fvalue_rouge1 =[]\n",
    "fvalue_rouge2 =[]\n",
    "\n",
    "\n",
    "from rouge_score import rouge_scorer\n",
    "scorer = rouge_scorer.RougeScorer(['rouge1', 'rouge2'])\n",
    "\n",
    "for index, row in tqdm(df.iterrows()):\n",
    "    text_data = row['Summary']\n",
    "    reference_summary = text_data\n",
    "    model_summary = summarys[i]\n",
    "\n",
    "    scores = scorer.score(model_summary, reference_summary)\n",
    "\n",
    "    precision_rouge1.append(scores['rouge1'].precision)\n",
    "    #precision_rouge2.append(scores['rouge2'].precision)\n",
    "    recal_rouge1.append(scores['rouge1'].recall)\n",
    "    recal_rouge2.append(scores['rouge2'].recall)\n",
    "    fvalue_rouge1.append(scores['rouge1'].fmeasure)\n",
    "    fvalue_rouge2.append(scores['rouge2'].fmeasure)\n",
    "    i = i +1\n",
    "\n"
   ]
  },
  {
   "cell_type": "code",
   "execution_count": 42,
   "metadata": {},
   "outputs": [
    {
     "data": {
      "image/png": "[encoded data removed]",
      "text/plain": [
       "<Figure size 432x288 with 1 Axes>"
      ]
     },
     "metadata": {
      "needs_background": "light"
     },
     "output_type": "display_data"
    }
   ],
   "source": [
    "import matplotlib.pyplot as plt\n",
    "# Sample data\n",
    "precision_rouge1 # You need to define your data here\n",
    "# Creating a histogram\n",
    "plt.hist(precision_rouge1, bins=50, color='blue', edgecolor='black')\n",
    "# Adding labels and title\n",
    "plt.xlabel('Precision Rouge-1')\n",
    "plt.ylabel('Frequency')\n",
    "# Display the plot\n",
    "plt.show()\n"
   ]
  },
  {
   "cell_type": "code",
   "execution_count": 43,
   "metadata": {},
   "outputs": [
    {
     "data": {
      "image/png": "[encoded data removed]",
      "text/plain": [
       "<Figure size 432x288 with 1 Axes>"
      ]
     },
     "metadata": {
      "needs_background": "light"
     },
     "output_type": "display_data"
    }
   ],
   "source": [
    "import matplotlib.pyplot as plt\n",
    "# Sample data\n",
    "precision_rouge2 # You need to define your data here\n",
    "# Creating a histogram\n",
    "plt.hist(precision_rouge2, bins=50, color='blue', edgecolor='black')\n",
    "# Adding labels and title\n",
    "plt.xlabel('Precision Rouge-2')\n",
    "plt.ylabel('Frequency')\n",
    "# Display the plot\n",
    "plt.show()\n"
   ]
  },
  {
   "cell_type": "code",
   "execution_count": 44,
   "metadata": {},
   "outputs": [],
   "source": [
    "precision_rouge2\n",
    "precision_rouge2 = [min(x, 1) for x in precision_rouge2]"
   ]
  },
  {
   "cell_type": "code",
   "execution_count": 45,
   "metadata": {},
   "outputs": [
    {
     "data": {
      "image/png": "[encoded data removed]",
      "text/plain": [
       "<Figure size 432x288 with 1 Axes>"
      ]
     },
     "metadata": {
      "needs_background": "light"
     },
     "output_type": "display_data"
    }
   ],
   "source": [
    "import matplotlib.pyplot as plt\n",
    "# Sample data\n",
    "recal_rouge1# You need to define your data here\n",
    "# Creating a histogram\n",
    "plt.hist(recal_rouge1, bins=50, color='blue', edgecolor='black')\n",
    "# Adding labels and title\n",
    "plt.xlabel('recall-1')\n",
    "plt.ylabel('Frequency')\n",
    "# Display the plot\n",
    "plt.show()\n"
   ]
  },
  {
   "cell_type": "code",
   "execution_count": 46,
   "metadata": {},
   "outputs": [
    {
     "data": {
      "image/png": "[encoded data removed]",
      "text/plain": [
       "<Figure size 432x288 with 1 Axes>"
      ]
     },
     "metadata": {
      "needs_background": "light"
     },
     "output_type": "display_data"
    }
   ],
   "source": [
    "import matplotlib.pyplot as plt\n",
    "# Sample data\n",
    "recal_rouge2# You need to define your data here\n",
    "# Creating a histogram\n",
    "plt.hist(recal_rouge2, bins=50, color='blue', edgecolor='black')\n",
    "# Adding labels and title\n",
    "plt.xlabel('recall-2')\n",
    "plt.ylabel('Frequency')\n",
    "# Display the plot\n",
    "plt.show()"
   ]
  },
  {
   "cell_type": "code",
   "execution_count": 47,
   "metadata": {},
   "outputs": [
    {
     "data": {
      "image/png": "[encoded data removed]",
      "text/plain": [
       "<Figure size 432x288 with 1 Axes>"
      ]
     },
     "metadata": {
      "needs_background": "light"
     },
     "output_type": "display_data"
    }
   ],
   "source": [
    "import matplotlib.pyplot as plt\n",
    "# Sample data\n",
    "fvalue_rouge1# You need to define your data here\n",
    "# Creating a histogram\n",
    "plt.hist(fvalue_rouge1, bins=50, color='blue', edgecolor='black')\n",
    "# Adding labels and title\n",
    "plt.xlabel('fvalue-1')\n",
    "plt.ylabel('Frequency')\n",
    "# Display the plot\n",
    "plt.show()"
   ]
  },
  {
   "cell_type": "code",
   "execution_count": 48,
   "metadata": {},
   "outputs": [
    {
     "data": {
      "image/png": "[encoded data removed]",
      "text/plain": [
       "<Figure size 432x288 with 1 Axes>"
      ]
     },
     "metadata": {
      "needs_background": "light"
     },
     "output_type": "display_data"
    }
   ],
   "source": [
    "import matplotlib.pyplot as plt\n",
    "# Sample data\n",
    "fvalue_rouge2# You need to define your data here\n",
    "# Creating a histogram\n",
    "plt.hist(fvalue_rouge2, bins=50, color='blue', edgecolor='black')\n",
    "# Adding labels and title\n",
    "plt.xlabel('fvalue-2')\n",
    "plt.ylabel('Frequency')\n",
    "# Display the plot\n",
    "plt.show()"
   ]
  },
  {
   "cell_type": "code",
   "execution_count": null,
   "metadata": {},
   "outputs": [],
   "source": []
  }
 ],
 "metadata": {
  "kernelspec": {
   "display_name": "Python 3",
   "language": "python",
   "name": "python3"
  },
  "language_info": {
   "codemirror_mode": {
    "name": "ipython",
    "version": 3
   },
   "file_extension": ".py",
   "mimetype": "text/x-python",
   "name": "python",
   "nbconvert_exporter": "python",
   "pygments_lexer": "ipython3",
   "version": "3.8.6"
  }
 },
 "nbformat": 4,
 "nbformat_minor": 4
}
